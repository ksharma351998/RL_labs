{
  "nbformat": 4,
  "nbformat_minor": 0,
  "metadata": {
    "colab": {
      "name": "Lab 0 : Introduction to python",
      "provenance": [],
      "collapsed_sections": [
        "kdk-4kw-hhRt",
        "dTBST3neHdCP",
        "tPWucg87n9Pg",
        "f-WqDzAPhB2i",
        "sWrPW4PU0HoI"
      ],
      "toc_visible": true,
      "include_colab_link": true
    },
    "kernelspec": {
      "name": "python3",
      "display_name": "Python 3"
    }
  },
  "cells": [
    {
      "cell_type": "markdown",
      "metadata": {
        "id": "view-in-github",
        "colab_type": "text"
      },
      "source": [
        "<a href=\"https://colab.research.google.com/github/m7saikat/IE-7374/blob/master/Lab_0_Introduction_to_python.ipynb\" target=\"_parent\"><img src=\"https://colab.research.google.com/assets/colab-badge.svg\" alt=\"Open In Colab\"/></a>"
      ]
    },
    {
      "cell_type": "markdown",
      "metadata": {
        "id": "aQMA1ejtg80M",
        "colab_type": "text"
      },
      "source": [
        "# Introduction to python"
      ]
    },
    {
      "cell_type": "markdown",
      "metadata": {
        "id": "AnTf9-vKhGQR",
        "colab_type": "text"
      },
      "source": [
        "Python is a widely used general-purpose, high level programming language. It was initially designed by Guido van Rossum in 1991 and developed by Python Software Foundation. It was mainly developed for emphasis on code readability, and its syntax allows programmers to express concepts in fewer lines of code.\n",
        "\n",
        "This introductory lab is an attempt to get you familiarized with python. You can run each code block to verify the results. It is advised to create a copy of this notebook and play with it."
      ]
    },
    {
      "cell_type": "markdown",
      "metadata": {
        "id": "kdk-4kw-hhRt",
        "colab_type": "text"
      },
      "source": [
        "## Operators\n",
        "\n",
        "---\n",
        "\n",
        "\n"
      ]
    },
    {
      "cell_type": "markdown",
      "metadata": {
        "id": "VLZrlAzDs3qr",
        "colab_type": "text"
      },
      "source": [
        "### Arithmatic operators\n",
        "\n",
        "These operators are used for mathematical operations\n",
        "\n",
        "1. `+`  : Addition \n",
        "2. `-`  : Substraction \n",
        "3. `*`  : Multiplication \n",
        "4. `//` : Division (floor)\n",
        "5. `/`\t : Division (float)\n",
        "6. `%`\t : Modulus- returns the remainder when first operand is divided by the second\t\n",
        "\n"
      ]
    },
    {
      "cell_type": "code",
      "metadata": {
        "id": "9vTeez_bq_RP",
        "colab_type": "code",
        "colab": {}
      },
      "source": [
        " # Addition\n",
        " 1 + 1\n",
        " # Should return 2"
      ],
      "execution_count": 0,
      "outputs": []
    },
    {
      "cell_type": "code",
      "metadata": {
        "id": "D0jApeMFtcyI",
        "colab_type": "code",
        "colab": {}
      },
      "source": [
        "# Multiplication\n",
        "2 * 3\n",
        "# Should return 6"
      ],
      "execution_count": 0,
      "outputs": []
    },
    {
      "cell_type": "code",
      "metadata": {
        "id": "mg4WMxITOobf",
        "colab_type": "code",
        "colab": {}
      },
      "source": [
        "# // Division\n",
        "10//3\n",
        "# Should return 3: 10 divided by 3 is 3.33, the //operator returns the floor value of 3.33 = 3"
      ],
      "execution_count": 0,
      "outputs": []
    },
    {
      "cell_type": "code",
      "metadata": {
        "id": "Z5FcSkNxPDK8",
        "colab_type": "code",
        "colab": {}
      },
      "source": [
        "# / Division\n",
        "10/3\n",
        "# Should return 3.33: 10 divided by 3 is 3.33, the / operator returns the float value of 3.33 = 3.33"
      ],
      "execution_count": 0,
      "outputs": []
    },
    {
      "cell_type": "code",
      "metadata": {
        "id": "RuobgBXzPMEL",
        "colab_type": "code",
        "colab": {}
      },
      "source": [
        "# % Modulus\n",
        "10 % 3\n",
        "# Should return 1: When 10 is divided by 3 the remainder is 1"
      ],
      "execution_count": 0,
      "outputs": []
    },
    {
      "cell_type": "markdown",
      "metadata": {
        "id": "qT_nZ1uMQVqZ",
        "colab_type": "text"
      },
      "source": [
        "### Relational Operator\n",
        "\n",
        "Used for comparing values. They usually return `True` or `False`\n",
        "\n",
        "1. `>`\t: Greater than - True, if left operand is greater than the right (syntax - x > y)\n",
        "2. `<`\t:  Less than - True, if left operand is less than the right\t(syntax - `x < y`)\n",
        "3. `==`\t:  Equal to - True, if both operands are equal\t(syntax - x == y)\n",
        "4. `!=`\t :  Not equal to - True, if operands are not equal\t(syntax - x != y)\n",
        "5. `>=` :\tGreater than or equal to - True, if left operand is greater than or equal to the right\t(syntax - x >= y)\n",
        "6. `<=`\t: Less than or equal to - True, if left operand is less than or equal to the right\t(syntax - x <= y) "
      ]
    },
    {
      "cell_type": "code",
      "metadata": {
        "id": "o3ihGkoxSp01",
        "colab_type": "code",
        "colab": {}
      },
      "source": [
        "# > : Greater than\n",
        "print(6>3)"
      ],
      "execution_count": 0,
      "outputs": []
    },
    {
      "cell_type": "code",
      "metadata": {
        "id": "acAwbMNgTAlg",
        "colab_type": "code",
        "colab": {}
      },
      "source": [
        "# > : Less than\n",
        "print (6 < 3)"
      ],
      "execution_count": 0,
      "outputs": []
    },
    {
      "cell_type": "code",
      "metadata": {
        "id": "Tx8phHoGTG9e",
        "colab_type": "code",
        "colab": {}
      },
      "source": [
        "# == : Equal to\n",
        "print (6 == 6)"
      ],
      "execution_count": 0,
      "outputs": []
    },
    {
      "cell_type": "code",
      "metadata": {
        "id": "hklE32LrTqhc",
        "colab_type": "code",
        "colab": {}
      },
      "source": [
        "# != : Not Equal to\n",
        "print (6 != 6)"
      ],
      "execution_count": 0,
      "outputs": []
    },
    {
      "cell_type": "code",
      "metadata": {
        "id": "UELR4jjhTyFZ",
        "colab_type": "code",
        "colab": {}
      },
      "source": [
        "# >= : Greater than or equal to\n",
        "print (6 >= 6)\n",
        "print (6 >= 3)"
      ],
      "execution_count": 0,
      "outputs": []
    },
    {
      "cell_type": "code",
      "metadata": {
        "id": "upuemOFKT9q2",
        "colab_type": "code",
        "colab": {}
      },
      "source": [
        "# <= : Less than or equal to\n",
        "print (6 <= 6)\n",
        "print (6 <= 3)"
      ],
      "execution_count": 0,
      "outputs": []
    },
    {
      "cell_type": "markdown",
      "metadata": {
        "id": "_ejs4f4-UGtl",
        "colab_type": "text"
      },
      "source": [
        "### Logical Operators\n",
        "\n",
        "They are used to join expressions using AND, OR, NOT clauses\n",
        "\n",
        "1. `and`: \tLogical AND - True if both the operands are true\n",
        "2. `or` :\tLogical OR - True if either of the operands is true\n",
        "3. `not`:\tLogical NOT - True if operand is false"
      ]
    },
    {
      "cell_type": "markdown",
      "metadata": {
        "id": "oXdEmEqrDJTI",
        "colab_type": "text"
      },
      "source": [
        "##### `not` : Logical NOT"
      ]
    },
    {
      "cell_type": "code",
      "metadata": {
        "id": "dDVyV9-GXYUu",
        "colab_type": "code",
        "colab": {}
      },
      "source": [
        "\n",
        "a = True\n",
        "# Complement of True, is False\n",
        "print (not a)\n"
      ],
      "execution_count": 0,
      "outputs": []
    },
    {
      "cell_type": "code",
      "metadata": {
        "id": "pbcceoKOCmNK",
        "colab_type": "code",
        "colab": {}
      },
      "source": [
        "b = False\n",
        "# Complement of False, is True\n",
        "print (not b)"
      ],
      "execution_count": 0,
      "outputs": []
    },
    {
      "cell_type": "markdown",
      "metadata": {
        "id": "xUm2MXp_DOO-",
        "colab_type": "text"
      },
      "source": [
        "##### `AND` : Logical AND "
      ]
    },
    {
      "cell_type": "code",
      "metadata": {
        "id": "PMy0JM1EVzuu",
        "colab_type": "code",
        "colab": {}
      },
      "source": [
        "# The expression (6 == 6) and (7 != 8) is True since both the exression individually is True           \n",
        "print ((6 == 6) and (7 != 8))"
      ],
      "execution_count": 0,
      "outputs": []
    },
    {
      "cell_type": "code",
      "metadata": {
        "id": "U13buzGcDEUU",
        "colab_type": "code",
        "colab": {}
      },
      "source": [
        "# The expression (6 == 6) and (7 == 8) is False since the one of the exression (7 == 8) is False\n",
        "print ((6 == 6) and (7 == 8))"
      ],
      "execution_count": 0,
      "outputs": []
    },
    {
      "cell_type": "markdown",
      "metadata": {
        "id": "CkJE5-oVDc2w",
        "colab_type": "text"
      },
      "source": [
        "##### `OR` : Logical OR    "
      ]
    },
    {
      "cell_type": "code",
      "metadata": {
        "id": "rZxXnsB5WjFb",
        "colab_type": "code",
        "colab": {}
      },
      "source": [
        "# The expression (6 == 6) or (7 == 8) is True since the one of the exression (6 == 6) is True\n",
        "print ((6 == 6) or (7 == 8),6 == 6)"
      ],
      "execution_count": 0,
      "outputs": []
    },
    {
      "cell_type": "code",
      "metadata": {
        "id": "RODQZmLPDiZz",
        "colab_type": "code",
        "colab": {}
      },
      "source": [
        "# The expression (6 != 6) or (7 == 8) is False since the both of the exression is False\n",
        "print ((6 != 6) or (7 == 8),6 == 6)"
      ],
      "execution_count": 0,
      "outputs": []
    },
    {
      "cell_type": "markdown",
      "metadata": {
        "id": "AzUsbuYla8QA",
        "colab_type": "text"
      },
      "source": [
        "##### **Try out the following examples**"
      ]
    },
    {
      "cell_type": "code",
      "metadata": {
        "id": "ChUAn3VZFpqq",
        "colab_type": "code",
        "colab": {}
      },
      "source": [
        "# Try substracting 7 from 15 (Write your code below) \n",
        "\n",
        "# Try dividing 20 by 4 (Write your code below) \n",
        "\n",
        "# What should be the output of print (9//2)\n",
        "\n"
      ],
      "execution_count": 0,
      "outputs": []
    },
    {
      "cell_type": "markdown",
      "metadata": {
        "id": "dTBST3neHdCP",
        "colab_type": "text"
      },
      "source": [
        "## Variables\n",
        "\n",
        "---\n",
        "\n"
      ]
    },
    {
      "cell_type": "markdown",
      "metadata": {
        "id": "mrUIZi7QHepm",
        "colab_type": "text"
      },
      "source": [
        "We can also store data into variables."
      ]
    },
    {
      "cell_type": "code",
      "metadata": {
        "id": "21Pkr14sHlyI",
        "colab_type": "code",
        "colab": {}
      },
      "source": [
        "s = 'hello world'"
      ],
      "execution_count": 0,
      "outputs": []
    },
    {
      "cell_type": "markdown",
      "metadata": {
        "id": "uTZ6WRaKIDaL",
        "colab_type": "text"
      },
      "source": [
        "We can print the value stored in a variable using print statement"
      ]
    },
    {
      "cell_type": "code",
      "metadata": {
        "id": "B7ZhVxZtH7gP",
        "colab_type": "code",
        "colab": {}
      },
      "source": [
        "print (s)"
      ],
      "execution_count": 0,
      "outputs": []
    },
    {
      "cell_type": "markdown",
      "metadata": {
        "id": "SPZMyYd8INJf",
        "colab_type": "text"
      },
      "source": [
        "Python does not mandate decalring variables as integers, strings, characters. Data irrespective of it's type can be assigned to any variable. \n",
        "\n",
        "One thing to note here, is that variable names should not be amongst the [keywords](https://www.programiz.com/python-programming/keyword-list) defined in python.\n",
        "\n",
        "Some more examples are as follows."
      ]
    },
    {
      "cell_type": "code",
      "metadata": {
        "id": "Z_dEmnygJAEm",
        "colab_type": "code",
        "colab": {}
      },
      "source": [
        "a = 5\n",
        "print(a)"
      ],
      "execution_count": 0,
      "outputs": []
    },
    {
      "cell_type": "markdown",
      "metadata": {
        "id": "LxSeRNMuGERs",
        "colab_type": "text"
      },
      "source": [
        "##### That being said, in python we can categorize data into the following types.\n",
        "* **Text** type:\t    `str`\n",
        "* **Numeric** types:\t`int`, `float`\n",
        "* **Sequence** types:\t`list`, `tuple`\n",
        "* **Mapping** type:\t  `dict`\n",
        "* **Set** type: \t    `set`, \n",
        "* **Boolean** types:\t  `bool`\n",
        "\n",
        "Given a data stored in a variable, we can find out it's data type, using python's in buit `type` function. \n",
        "\n",
        "Here are few examples of how it works\n"
      ]
    },
    {
      "cell_type": "code",
      "metadata": {
        "id": "Q8JIRFonI6S2",
        "colab_type": "code",
        "colab": {}
      },
      "source": [
        "num = 5\n",
        "print (type(num))\n",
        "\n",
        "decimal = 3.14\n",
        "print(type(decimal))\n",
        "\n",
        "string = 'Reinforcement Learning'\n",
        "print (type(string))\n",
        "\n",
        "boolean = False\n",
        "print ('Variable {} contains data of type {}'.format('boolean', type(boolean)))"
      ],
      "execution_count": 0,
      "outputs": []
    },
    {
      "cell_type": "markdown",
      "metadata": {
        "id": "dtWLffYeJM-Q",
        "colab_type": "text"
      },
      "source": [
        "We can also store expressions in a variable. For example"
      ]
    },
    {
      "cell_type": "code",
      "metadata": {
        "id": "zSQ8P0BLJq1H",
        "colab_type": "code",
        "colab": {}
      },
      "source": [
        "a = 5 * 20\n",
        "print (a)"
      ],
      "execution_count": 0,
      "outputs": []
    },
    {
      "cell_type": "code",
      "metadata": {
        "id": "x9FM8tItJyKi",
        "colab_type": "code",
        "colab": {}
      },
      "source": [
        "x = 5\n",
        "y = 4\n",
        "z = (x + y)*(x + y)\n",
        "print(z)"
      ],
      "execution_count": 0,
      "outputs": []
    },
    {
      "cell_type": "markdown",
      "metadata": {
        "id": "FbpWriW_4-tj",
        "colab_type": "text"
      },
      "source": [
        "Variables can also store boolean values. The two boolean value are : `True` and `False`"
      ]
    },
    {
      "cell_type": "code",
      "metadata": {
        "id": "xJ7y7fHW5Ca0",
        "colab_type": "code",
        "colab": {}
      },
      "source": [
        "bool_true = True\n",
        "print(bool_true)"
      ],
      "execution_count": 0,
      "outputs": []
    },
    {
      "cell_type": "code",
      "metadata": {
        "id": "t1fQVb-85NZA",
        "colab_type": "code",
        "colab": {}
      },
      "source": [
        "bool_false = False\n",
        "print (bool_false)"
      ],
      "execution_count": 0,
      "outputs": []
    },
    {
      "cell_type": "markdown",
      "metadata": {
        "id": "3P5AYMk1_Eyl",
        "colab_type": "text"
      },
      "source": [
        "Expressions can aso result in Boolean values, for example,"
      ]
    },
    {
      "cell_type": "code",
      "metadata": {
        "id": "kbJlOHIu_XXZ",
        "colab_type": "code",
        "colab": {}
      },
      "source": [
        "exprsn = (6 > 3)\n",
        "print(exprsn)"
      ],
      "execution_count": 0,
      "outputs": []
    },
    {
      "cell_type": "code",
      "metadata": {
        "id": "aBd_CrXu_hFv",
        "colab_type": "code",
        "colab": {}
      },
      "source": [
        "exprsn = (16 < 10)\n",
        "print(exprsn)"
      ],
      "execution_count": 0,
      "outputs": []
    },
    {
      "cell_type": "code",
      "metadata": {
        "id": "z96Gyi3U_nFQ",
        "colab_type": "code",
        "colab": {}
      },
      "source": [
        "exprsn = (7 == 7)\n",
        "print(exprsn)"
      ],
      "execution_count": 0,
      "outputs": []
    },
    {
      "cell_type": "markdown",
      "metadata": {
        "id": "uJBvtbU7_sbA",
        "colab_type": "text"
      },
      "source": [
        "Example of some "
      ]
    },
    {
      "cell_type": "markdown",
      "metadata": {
        "id": "7i6Z1cHWaxJr",
        "colab_type": "text"
      },
      "source": [
        "**Try out the following example**"
      ]
    },
    {
      "cell_type": "code",
      "metadata": {
        "id": "egSuy18dKAWA",
        "colab_type": "code",
        "colab": {}
      },
      "source": [
        "# Given a cube of side 5 unit length, store the volume of the cube in a variable V and print it.(Write your code below) \n",
        "# Hint : Volume of a cube is given by : side * side * side\n"
      ],
      "execution_count": 0,
      "outputs": []
    },
    {
      "cell_type": "markdown",
      "metadata": {
        "id": "HDY6zR6CuJHC",
        "colab_type": "text"
      },
      "source": [
        "## Strings\n",
        "\n",
        "---\n",
        "\n"
      ]
    },
    {
      "cell_type": "markdown",
      "metadata": {
        "id": "4e6bUceXuQAs",
        "colab_type": "text"
      },
      "source": [
        "Like all high level languages Python supports operations like concatenation of strings, trimming strings , etc. Some of these string operations can be made easy by using python."
      ]
    },
    {
      "cell_type": "markdown",
      "metadata": {
        "id": "HNBYjzdmGSFZ",
        "colab_type": "text"
      },
      "source": [
        "#### Concatenation of two strings.\n"
      ]
    },
    {
      "cell_type": "markdown",
      "metadata": {
        "id": "3cpRM2j7GrNE",
        "colab_type": "text"
      },
      "source": [
        "##### The usual practice to add two string is shown below"
      ]
    },
    {
      "cell_type": "code",
      "metadata": {
        "id": "EcwvizDVuPVF",
        "colab_type": "code",
        "colab": {}
      },
      "source": [
        "'Hello ' + 'World'"
      ],
      "execution_count": 0,
      "outputs": []
    },
    {
      "cell_type": "code",
      "metadata": {
        "id": "APCqYoCzG6wL",
        "colab_type": "code",
        "colab": {}
      },
      "source": [
        "'Sky ' + 'is ' + 'blue.'"
      ],
      "execution_count": 0,
      "outputs": []
    },
    {
      "cell_type": "markdown",
      "metadata": {
        "id": "NULVzbJhHFcN",
        "colab_type": "text"
      },
      "source": [
        "##### However, the industry standard to do string concatenation is using the .format method as shown below."
      ]
    },
    {
      "cell_type": "code",
      "metadata": {
        "id": "vy2hrRggGYiX",
        "colab_type": "code",
        "colab": {}
      },
      "source": [
        "'{} {}'.format('Hello', 'World')"
      ],
      "execution_count": 0,
      "outputs": []
    },
    {
      "cell_type": "code",
      "metadata": {
        "id": "ihSCABunHOn9",
        "colab_type": "code",
        "colab": {}
      },
      "source": [
        "'{} {} {}'.format('Sky', 'is', 'blue')"
      ],
      "execution_count": 0,
      "outputs": []
    },
    {
      "cell_type": "markdown",
      "metadata": {
        "id": "qFmTI1UGaC_T",
        "colab_type": "text"
      },
      "source": [
        "Given the following variables."
      ]
    },
    {
      "cell_type": "code",
      "metadata": {
        "id": "U9UnSx2DYyig",
        "colab_type": "code",
        "colab": {}
      },
      "source": [
        "variable_1 = 'foxes'\n",
        "variable_2 = 'jumped'\n",
        "variable_3 = 'wall'"
      ],
      "execution_count": 0,
      "outputs": []
    },
    {
      "cell_type": "markdown",
      "metadata": {
        "id": "HrDA7PPWZ0EG",
        "colab_type": "text"
      },
      "source": [
        "To print the statement - The 2 lazy foxes jumped over the wall.', we can use .format as follows."
      ]
    },
    {
      "cell_type": "code",
      "metadata": {
        "id": "8ySUDOqWZyTG",
        "colab_type": "code",
        "colab": {}
      },
      "source": [
        "'The {} lazy {} {} over the {}.'.format(2, variable_1, variable_2, variable_3)"
      ],
      "execution_count": 0,
      "outputs": []
    },
    {
      "cell_type": "markdown",
      "metadata": {
        "id": "LzupykFbYF0L",
        "colab_type": "text"
      },
      "source": [
        "**Try out the following example**"
      ]
    },
    {
      "cell_type": "code",
      "metadata": {
        "id": "vK-9Of_zYLIZ",
        "colab_type": "code",
        "colab": {}
      },
      "source": [
        "your_name = ' replace with your name'\n",
        "your_pastime = 'replace with pastime'\n"
      ],
      "execution_count": 0,
      "outputs": []
    },
    {
      "cell_type": "code",
      "metadata": {
        "id": "7hXK2KcgajOb",
        "colab_type": "code",
        "colab": {}
      },
      "source": [
        "# Print : 'My name is <your_name> and my favorite pastime is <your_pastime>',\n",
        "# given the variables mentioned above using .format (Write your code below) \n",
        "\n"
      ],
      "execution_count": 0,
      "outputs": []
    },
    {
      "cell_type": "markdown",
      "metadata": {
        "id": "V1mIOVFUcFT3",
        "colab_type": "text"
      },
      "source": [
        "#### String operations."
      ]
    },
    {
      "cell_type": "markdown",
      "metadata": {
        "id": "oNHdiZzAchkX",
        "colab_type": "text"
      },
      "source": [
        "##### Changing cases"
      ]
    },
    {
      "cell_type": "code",
      "metadata": {
        "id": "LQnXYdZlcPmj",
        "colab_type": "code",
        "colab": {}
      },
      "source": [
        "'hello world'.upper()"
      ],
      "execution_count": 0,
      "outputs": []
    },
    {
      "cell_type": "code",
      "metadata": {
        "id": "BX5cxhrbcWTV",
        "colab_type": "code",
        "colab": {}
      },
      "source": [
        "'HELLO WORLD'.lower()"
      ],
      "execution_count": 0,
      "outputs": []
    },
    {
      "cell_type": "markdown",
      "metadata": {
        "id": "i5q0IqMgclsE",
        "colab_type": "text"
      },
      "source": [
        "##### Finding the length of the a string"
      ]
    },
    {
      "cell_type": "code",
      "metadata": {
        "id": "2ge7py2pcqvx",
        "colab_type": "code",
        "colab": {}
      },
      "source": [
        "len('Hello World')"
      ],
      "execution_count": 0,
      "outputs": []
    },
    {
      "cell_type": "markdown",
      "metadata": {
        "id": "bItlP936c7Wd",
        "colab_type": "text"
      },
      "source": [
        "##### Trimming strings"
      ]
    },
    {
      "cell_type": "code",
      "metadata": {
        "id": "GdCIEHkwc69n",
        "colab_type": "code",
        "colab": {}
      },
      "source": [
        "hello_world = 'Hello, World!'\n",
        "hello_world[7:12]"
      ],
      "execution_count": 0,
      "outputs": []
    },
    {
      "cell_type": "markdown",
      "metadata": {
        "id": "a4kN5uaddYqq",
        "colab_type": "text"
      },
      "source": [
        "##### Splitting Strings"
      ]
    },
    {
      "cell_type": "code",
      "metadata": {
        "id": "aEJP5KcldhSw",
        "colab_type": "code",
        "colab": {}
      },
      "source": [
        "a = 'Reinforcement learning is fun! The opportunities here are endless.'\n",
        "# The is a delimiter. The string splits at this specified separator. If is not provided then any white space is a separator.\n",
        "print(a.split(' '))"
      ],
      "execution_count": 0,
      "outputs": []
    },
    {
      "cell_type": "markdown",
      "metadata": {
        "id": "SfR1bdnzdqSD",
        "colab_type": "text"
      },
      "source": [
        "##  Built-in Data Structures\n",
        "\n",
        "---\n",
        "\n"
      ]
    },
    {
      "cell_type": "markdown",
      "metadata": {
        "id": "RQjVFc5Td0C7",
        "colab_type": "text"
      },
      "source": [
        "### Lists"
      ]
    },
    {
      "cell_type": "markdown",
      "metadata": {
        "id": "mIriWcy-d3nW",
        "colab_type": "text"
      },
      "source": [
        "Like array list is and ordered collection of data types. for example"
      ]
    },
    {
      "cell_type": "code",
      "metadata": {
        "id": "VIoupZsEdzSt",
        "colab_type": "code",
        "colab": {}
      },
      "source": [
        "a_list = ['apple', 'banana', 'cherry']\n",
        "print (a_list)"
      ],
      "execution_count": 0,
      "outputs": []
    },
    {
      "cell_type": "markdown",
      "metadata": {
        "id": "QbGisyQujGie",
        "colab_type": "text"
      },
      "source": [
        "##### Accessing the list"
      ]
    },
    {
      "cell_type": "markdown",
      "metadata": {
        "id": "eOUm-_7Yb5-r",
        "colab_type": "text"
      },
      "source": [
        "Lists can be accessed using their index numbers. a list starts with index 0 followed by 1, 2 so on and so forth ending in l-1 where l which is the last element of the list, where l is the length of the list."
      ]
    },
    {
      "cell_type": "code",
      "metadata": {
        "id": "3EVNj8frjI6Q",
        "colab_type": "code",
        "colab": {}
      },
      "source": [
        "print (a_list[0], a_list[1], a_list[2])"
      ],
      "execution_count": 0,
      "outputs": []
    },
    {
      "cell_type": "markdown",
      "metadata": {
        "id": "Lt47QB7OecgX",
        "colab_type": "text"
      },
      "source": [
        "In python, Lists can also be accessed in the reverse order, using negative index. The last element of the list is -1 the penultimate element is -2, so on and so forth ending in -l denoting the first element of the list, where l is the length of the list."
      ]
    },
    {
      "cell_type": "code",
      "metadata": {
        "id": "khp5-me_jdy7",
        "colab_type": "code",
        "colab": {}
      },
      "source": [
        "print (a_list[-1], a_list[-2], a_list[-3])"
      ],
      "execution_count": 0,
      "outputs": []
    },
    {
      "cell_type": "markdown",
      "metadata": {
        "id": "tvK163rmj1XZ",
        "colab_type": "text"
      },
      "source": [
        "##### Appending to a list "
      ]
    },
    {
      "cell_type": "code",
      "metadata": {
        "id": "6C-ZPU33kBNj",
        "colab_type": "code",
        "colab": {}
      },
      "source": [
        "a_list.append('orange')\n",
        "print (a_list)"
      ],
      "execution_count": 0,
      "outputs": []
    },
    {
      "cell_type": "markdown",
      "metadata": {
        "id": "9FCv0RsVkhEu",
        "colab_type": "text"
      },
      "source": [
        "##### Length of the list \n"
      ]
    },
    {
      "cell_type": "code",
      "metadata": {
        "id": "nw1Y7kZ4kkCb",
        "colab_type": "code",
        "colab": {}
      },
      "source": [
        "print (len(a_list))"
      ],
      "execution_count": 0,
      "outputs": []
    },
    {
      "cell_type": "markdown",
      "metadata": {
        "id": "_OgOvXfVkqMO",
        "colab_type": "text"
      },
      "source": [
        "##### Looping over a list"
      ]
    },
    {
      "cell_type": "code",
      "metadata": {
        "id": "VrxTIK2OkpWF",
        "colab_type": "code",
        "colab": {}
      },
      "source": [
        "for fruit in a_list:\n",
        "  print ('{} is a delicious fruit'.format(fruit))"
      ],
      "execution_count": 0,
      "outputs": []
    },
    {
      "cell_type": "markdown",
      "metadata": {
        "id": "lhZxHNPxrRo2",
        "colab_type": "text"
      },
      "source": [
        "##### List methods\n",
        "\n",
        "The following are the most common used methods used when working with lists. More detailed information on list can be found [here](https://www.programiz.com/python-programming/list)\n",
        "\n",
        "1. `append()`:\tAdds an element at the end of the list\n",
        "2. `clear()`:\tRemoves all the elements from the list\n",
        "3. `copy()`:\tReturns a copy of the list\n",
        "4. `count()`:\tReturns the number of elements with the specified value\n",
        "5. `extend()`:\tAdds the elements of a list (or any iterable), to the end of the current list\n",
        "6. `index()`:\tReturns the index of the first element with the specified value\n",
        "7. `insert()`:\tAdds an element at the specified position\n",
        "8. `pop()`:\tRemoves the element at the specified position\n",
        "9. `remove()`:\tRemoves the item with the specified value\n",
        "10. `reverse()`:\tReverses the order of the list\n",
        "11. `sort()`:\tSorts the list"
      ]
    },
    {
      "cell_type": "markdown",
      "metadata": {
        "id": "TpWZLbDHll4Q",
        "colab_type": "text"
      },
      "source": [
        "##### **Try out the following example**"
      ]
    },
    {
      "cell_type": "code",
      "metadata": {
        "id": "Kp8iAGiFsBMZ",
        "colab_type": "code",
        "colab": {}
      },
      "source": [
        "# Write a Python program to count the number of strings, form the list given below, where the string length is 4 or more\n",
        "a_list = ['Reinforcemnet', 'Learning', 'is', 'fun.']\n"
      ],
      "execution_count": 0,
      "outputs": []
    },
    {
      "cell_type": "markdown",
      "metadata": {
        "id": "u8khr1arr4pI",
        "colab_type": "text"
      },
      "source": [
        "### Sets"
      ]
    },
    {
      "cell_type": "markdown",
      "metadata": {
        "id": "hKMNeNkqr7GQ",
        "colab_type": "text"
      },
      "source": [
        "A set is another data structure that serves as an unordered list with no duplicate items. Below, we show how to create a set, add things to the set, test if an item is in the set, and perform common set operations (difference, intersection, union)"
      ]
    },
    {
      "cell_type": "code",
      "metadata": {
        "id": "ZhRTrUTzr-Yr",
        "colab_type": "code",
        "colab": {}
      },
      "source": [
        "shapes = ['circle','square','triangle','circle']\n",
        "setOfShapes = set(shapes)\n",
        "print (setOfShapes)"
      ],
      "execution_count": 0,
      "outputs": []
    },
    {
      "cell_type": "code",
      "metadata": {
        "id": "81ihPgNqPcln",
        "colab_type": "code",
        "colab": {}
      },
      "source": [
        "num_list = [2,2,3,4,2,2,4,5,3,2]\n",
        "set_of_num_list = set(num_list)\n",
        "print(set_of_num_list)"
      ],
      "execution_count": 0,
      "outputs": []
    },
    {
      "cell_type": "markdown",
      "metadata": {
        "id": "ucvBQ4HXsh_l",
        "colab_type": "text"
      },
      "source": [
        "**Note** that the objects in the set are unordered; you cannot assume that their traversal or print order will be the same across machines!"
      ]
    },
    {
      "cell_type": "markdown",
      "metadata": {
        "id": "9oOhVnvCsG2_",
        "colab_type": "text"
      },
      "source": [
        "##### Adding an element to a set"
      ]
    },
    {
      "cell_type": "code",
      "metadata": {
        "id": "7Xk3j_4esL_e",
        "colab_type": "code",
        "colab": {}
      },
      "source": [
        "setOfShapes.add('polygon')"
      ],
      "execution_count": 0,
      "outputs": []
    },
    {
      "cell_type": "markdown",
      "metadata": {
        "id": "FNJ3gef-sN70",
        "colab_type": "text"
      },
      "source": [
        "##### Usage of in statement in sets"
      ]
    },
    {
      "cell_type": "code",
      "metadata": {
        "id": "eQAXPoIosVLV",
        "colab_type": "code",
        "colab": {}
      },
      "source": [
        "print ('circle' in setOfShapes)\n",
        "print ('rhombus' in setOfShapes)"
      ],
      "execution_count": 0,
      "outputs": []
    },
    {
      "cell_type": "markdown",
      "metadata": {
        "id": "n8FHGmHOzI0K",
        "colab_type": "text"
      },
      "source": [
        "### Tupples"
      ]
    },
    {
      "cell_type": "markdown",
      "metadata": {
        "id": "0lSWs3nKzN0p",
        "colab_type": "text"
      },
      "source": [
        "A data structure similar to the list is the tuple, which is like a list except that it is immutable once it is created (i.e. you cannot change its content once created). Note that tuples are surrounded with parentheses while lists have square brackets. \n",
        "\n",
        "The benifit of tupples is that they are more explicit with memory, while lists require overhead, hence operations over tupples are faster than operations over list."
      ]
    },
    {
      "cell_type": "code",
      "metadata": {
        "id": "bQJYfxpnzPPW",
        "colab_type": "code",
        "colab": {}
      },
      "source": [
        "tupple_example = (2,4)"
      ],
      "execution_count": 0,
      "outputs": []
    },
    {
      "cell_type": "markdown",
      "metadata": {
        "id": "SiKQI7uhzpBm",
        "colab_type": "text"
      },
      "source": [
        "##### Operations on tupple"
      ]
    },
    {
      "cell_type": "code",
      "metadata": {
        "id": "f40UE8yYzvx2",
        "colab_type": "code",
        "colab": {}
      },
      "source": [
        "print(tupple_example[0])"
      ],
      "execution_count": 0,
      "outputs": []
    },
    {
      "cell_type": "code",
      "metadata": {
        "id": "1dhn-Cfdz5RD",
        "colab_type": "code",
        "colab": {}
      },
      "source": [
        "# Deconstruction of tupple: Tupples can be deconstructed using the below syntax\n",
        "\n",
        "two, four = tupple_example\n",
        "print (two, four)"
      ],
      "execution_count": 0,
      "outputs": []
    },
    {
      "cell_type": "markdown",
      "metadata": {
        "id": "PRnVfWWPlf1i",
        "colab_type": "text"
      },
      "source": [
        "### Dictionary"
      ]
    },
    {
      "cell_type": "markdown",
      "metadata": {
        "id": "kVrGua13svfL",
        "colab_type": "text"
      },
      "source": [
        "The dictionary stores a map from one type of object (the key) to another (the value). The key must be an immutable type (string, number). The value can be any Python data type.\n",
        "\n",
        "Keys in dictionary needs to be unique. Duplicate keys are not allowed, however duplicate values are allowed, i.e two differnt keys can have same values, however two different values cannot have same keys"
      ]
    },
    {
      "cell_type": "code",
      "metadata": {
        "id": "3-VYnoLYsu_Z",
        "colab_type": "code",
        "colab": {}
      },
      "source": [
        " students = {1: 'knuth', 2: 'Turing', 4: 'Richie'}\n",
        " print(studentIds)"
      ],
      "execution_count": 0,
      "outputs": []
    },
    {
      "cell_type": "code",
      "metadata": {
        "id": "r9QlYldjs8f7",
        "colab_type": "code",
        "colab": {}
      },
      "source": [
        " students[1]"
      ],
      "execution_count": 0,
      "outputs": []
    },
    {
      "cell_type": "markdown",
      "metadata": {
        "id": "O2xE2dprtpCI",
        "colab_type": "text"
      },
      "source": [
        "Mapping can also be between a key and a list, for example"
      ]
    },
    {
      "cell_type": "code",
      "metadata": {
        "id": "i28SXYwfunKN",
        "colab_type": "code",
        "colab": {}
      },
      "source": [
        "students[1] = ['Knuth', 'Smith', 42]"
      ],
      "execution_count": 0,
      "outputs": []
    },
    {
      "cell_type": "code",
      "metadata": {
        "id": "SmYJnWABuohQ",
        "colab_type": "code",
        "colab": {}
      },
      "source": [
        "students"
      ],
      "execution_count": 0,
      "outputs": []
    },
    {
      "cell_type": "markdown",
      "metadata": {
        "id": "eAz618f4wlXC",
        "colab_type": "text"
      },
      "source": [
        "#### Dictionary operations"
      ]
    },
    {
      "cell_type": "markdown",
      "metadata": {
        "id": "j8_tA6uqu6Na",
        "colab_type": "text"
      },
      "source": [
        "##### Getting all the keys of a dictionary"
      ]
    },
    {
      "cell_type": "code",
      "metadata": {
        "id": "6LbCdCrxuztn",
        "colab_type": "code",
        "colab": {}
      },
      "source": [
        " students.keys()"
      ],
      "execution_count": 0,
      "outputs": []
    },
    {
      "cell_type": "markdown",
      "metadata": {
        "id": "kittF2gKvxuU",
        "colab_type": "text"
      },
      "source": [
        "##### Getting all the values in a dictionary."
      ]
    },
    {
      "cell_type": "code",
      "metadata": {
        "id": "Tqipi5SHv68K",
        "colab_type": "code",
        "colab": {}
      },
      "source": [
        " students.values()"
      ],
      "execution_count": 0,
      "outputs": []
    },
    {
      "cell_type": "markdown",
      "metadata": {
        "id": "nuRoQI8BwITT",
        "colab_type": "text"
      },
      "source": [
        "##### Getting the length of the dictionary"
      ]
    },
    {
      "cell_type": "code",
      "metadata": {
        "id": "lhqNra9Lv9lR",
        "colab_type": "code",
        "colab": {}
      },
      "source": [
        "len(students)"
      ],
      "execution_count": 0,
      "outputs": []
    },
    {
      "cell_type": "markdown",
      "metadata": {
        "id": "StSCwT7WwvQo",
        "colab_type": "text"
      },
      "source": [
        "##### **Try out the following example**"
      ]
    },
    {
      "cell_type": "markdown",
      "metadata": {
        "id": "5BppeAYpxaPs",
        "colab_type": "text"
      },
      "source": [
        "Given the a dictionary of fruits and their prices, print `'<fruit_name> is too expensive'` if the price of fruit is more than or equal to 4 dollars, or else print `<fruit_name> costs <price_of_fruit>`"
      ]
    },
    {
      "cell_type": "code",
      "metadata": {
        "id": "8Y3MeYOYw7lZ",
        "colab_type": "code",
        "colab": {}
      },
      "source": [
        "fruitPrices = {'apples': 4.00, 'oranges': 4.50, 'cherry': 1.75, 'bananna': 1.15}\n",
        "\n"
      ],
      "execution_count": 0,
      "outputs": []
    },
    {
      "cell_type": "markdown",
      "metadata": {
        "id": "tPWucg87n9Pg",
        "colab_type": "text"
      },
      "source": [
        "## Conditional statements\n",
        "\n",
        "---\n",
        "\n"
      ]
    },
    {
      "cell_type": "markdown",
      "metadata": {
        "id": "Py6jgFMcoTZI",
        "colab_type": "text"
      },
      "source": [
        "### If statement\n",
        "\n",
        "If statement in python behaves in the same manner as it does in other programming languages."
      ]
    },
    {
      "cell_type": "code",
      "metadata": {
        "id": "twN7fpIdobLl",
        "colab_type": "code",
        "colab": {}
      },
      "source": [
        "reward_right_action = 6\n",
        "reward_left_action = 2\n",
        "if reward_left_action < reward_right_action:\n",
        "  print(\"reward_right_action is lesser than reward_right_action\")\n",
        "else:\n",
        "  print(\"reward_right_action is not less reward_right_action\")"
      ],
      "execution_count": 0,
      "outputs": []
    },
    {
      "cell_type": "markdown",
      "metadata": {
        "id": "izinx1lMpCfW",
        "colab_type": "text"
      },
      "source": [
        "### if elif else statement\n",
        "\n",
        "The elif keyword is pythons way of saying \"if the previous conditions were not true, then try this condition\"."
      ]
    },
    {
      "cell_type": "code",
      "metadata": {
        "id": "gu9_FqK-o6HG",
        "colab_type": "code",
        "colab": {}
      },
      "source": [
        "reward_right_action = 6\n",
        "reward_left_action = 6\n",
        "if reward_left_action < reward_right_action:\n",
        "  print(\"reward_right_action is lesser than reward_right_action\")\n",
        "elif  reward_left_action == reward_right_action:\n",
        "  print(\"reward_right_action is equal to reward_right_action\")\n",
        "else:\n",
        "  print(\"reward_right_action is greater than reward_right_action\")"
      ],
      "execution_count": 0,
      "outputs": []
    },
    {
      "cell_type": "markdown",
      "metadata": {
        "id": "f-WqDzAPhB2i",
        "colab_type": "text"
      },
      "source": [
        "## Loops in Python\n",
        "\n",
        "---\n"
      ]
    },
    {
      "cell_type": "markdown",
      "metadata": {
        "id": "9oV4clAzhPsP",
        "colab_type": "text"
      },
      "source": [
        "The following type of loops are available in python\n"
      ]
    },
    {
      "cell_type": "markdown",
      "metadata": {
        "id": "Y4EMGM2shYvo",
        "colab_type": "text"
      },
      "source": [
        "### For in loop\n",
        "\n",
        "For loops are usually used to sequentially traverse a list. The `for in` loop is almost equivalent to `for` loop in other languages. The `for in` loop iterates over the list using the element of the list instead of the index."
      ]
    },
    {
      "cell_type": "code",
      "metadata": {
        "id": "uYP13ZRWhYKq",
        "colab_type": "code",
        "colab": {}
      },
      "source": [
        "# Iteration over a list\n",
        "a_list = ['Reinforcemnet', 'Learning', 'is', 'fun.']\n",
        "for word in a_list:\n",
        "  print (word)"
      ],
      "execution_count": 0,
      "outputs": []
    },
    {
      "cell_type": "code",
      "metadata": {
        "id": "8oW2JtNYirD2",
        "colab_type": "code",
        "colab": {}
      },
      "source": [
        "# Iterating over a String \n",
        "s = \"RL is fun.\"     \n",
        "for i in s : \n",
        "    print(i) "
      ],
      "execution_count": 0,
      "outputs": []
    },
    {
      "cell_type": "code",
      "metadata": {
        "id": "kpSo2UQqhPOX",
        "colab_type": "code",
        "colab": {}
      },
      "source": [
        "# Iterating over dictionary \n",
        "action_reward = dict()  \n",
        "action_reward['reward'] = 5\n",
        "action_reward['action'] = 'Turn right'\n",
        "for i in action_reward : \n",
        "    print('{} : {}'.format(i, action_reward[i])) "
      ],
      "execution_count": 0,
      "outputs": []
    },
    {
      "cell_type": "markdown",
      "metadata": {
        "id": "AwYmc09GnHbr",
        "colab_type": "text"
      },
      "source": [
        "### For loop using index"
      ]
    },
    {
      "cell_type": "markdown",
      "metadata": {
        "id": "quoWcUkRnERJ",
        "colab_type": "text"
      },
      "source": [
        " We can also use the index of elements in the sequence to iterate. The key idea is to first calculate the length of the list and in iterate over the sequence within the range of this length."
      ]
    },
    {
      "cell_type": "code",
      "metadata": {
        "id": "pWFbpvPpnJZc",
        "colab_type": "code",
        "colab": {}
      },
      "source": [
        "a_list = ['Reinforcemnet', 'Learning', 'is', 'fun.']\n",
        "print(len(a_list))\n",
        "for index in range(len(a_list)): \n",
        "    print ('{} : {}'.format(index, a_list[index])) "
      ],
      "execution_count": 0,
      "outputs": []
    },
    {
      "cell_type": "code",
      "metadata": {
        "id": "WiMDORmaqyF8",
        "colab_type": "code",
        "colab": {}
      },
      "source": [
        "# Code to print the square of each elemnent in a given list.\n",
        "num_array = [2,3,5,32,5,8,9,4,6,21]\n",
        "square_array = []\n",
        "for digit in num_array:\n",
        "  square_array.append(digit**2)\n",
        "print (square_array)"
      ],
      "execution_count": 0,
      "outputs": []
    },
    {
      "cell_type": "markdown",
      "metadata": {
        "id": "ATsBs67JnfF0",
        "colab_type": "text"
      },
      "source": [
        "### While loop\n",
        "\n",
        "While loop is used to execute a block of statements repeatedly until a given a condition is satisfied. And when the condition becomes false, the line immediately after the loop in program is executed."
      ]
    },
    {
      "cell_type": "code",
      "metadata": {
        "id": "TT2Y9L91ntYL",
        "colab_type": "code",
        "colab": {}
      },
      "source": [
        "# While loop till count is less than 3\n",
        "count = 0\n",
        "while (count < 3):     \n",
        "    count = count + 1\n",
        "    print(\"Reinforcement Learning\") "
      ],
      "execution_count": 0,
      "outputs": []
    },
    {
      "cell_type": "markdown",
      "metadata": {
        "id": "sWrPW4PU0HoI",
        "colab_type": "text"
      },
      "source": [
        "## Functions\n",
        "\n",
        "---\n",
        "\n"
      ]
    },
    {
      "cell_type": "markdown",
      "metadata": {
        "id": "WoKF84Hk0PqL",
        "colab_type": "text"
      },
      "source": [
        "A function is a set of statements that take inputs, do some specific computation and produces output. The idea is to put some commonly or repeatedly done task together and make a function, so that instead of writing the same code again and again for different inputs, we can call the function."
      ]
    },
    {
      "cell_type": "markdown",
      "metadata": {
        "id": "47-i4tee1I-a",
        "colab_type": "text"
      },
      "source": [
        "A function starts with the keyword `def` folowed by the name of the function."
      ]
    },
    {
      "cell_type": "code",
      "metadata": {
        "id": "EJxWvjNb15JQ",
        "colab_type": "code",
        "colab": {}
      },
      "source": [
        "# Fucntion to check if a number is prime or not\n",
        "# If given number is greater than 1 \n",
        "def is_prime(num):\n",
        "    if num > 1:   \n",
        "        for i in range(2, num//2): \n",
        "        # If num is divisible by any number between  \n",
        "        # 2 and n / 2, it is not prime  \n",
        "          if (num % i) == 0: \n",
        "              print(num, \"is not a prime number\") \n",
        "              break\n",
        "          else: \n",
        "              print(num, \"is a prime number\")\n",
        "    else:\n",
        "       print(num, \"is a prime number\")"
      ],
      "execution_count": 0,
      "outputs": []
    },
    {
      "cell_type": "code",
      "metadata": {
        "id": "yczy_ZMJ2yOJ",
        "colab_type": "code",
        "colab": {}
      },
      "source": [
        "is_prime(12)"
      ],
      "execution_count": 0,
      "outputs": []
    },
    {
      "cell_type": "code",
      "metadata": {
        "id": "KbC_gaAX2z48",
        "colab_type": "code",
        "colab": {}
      },
      "source": [
        "is_prime(7)"
      ],
      "execution_count": 0,
      "outputs": []
    },
    {
      "cell_type": "code",
      "metadata": {
        "id": "7A20xmjXwzO7",
        "colab_type": "code",
        "colab": {}
      },
      "source": [
        "# Function to take 3 strings and append them into a sentence.\n",
        "def make_sentence(word_1, word_2, word_3):\n",
        "  new_sentence = \"{} {} {}.\".format(word_1, word_2, word_3)\n",
        "  return new_sentence"
      ],
      "execution_count": 0,
      "outputs": []
    },
    {
      "cell_type": "code",
      "metadata": {
        "id": "l_L_ujRoxVXl",
        "colab_type": "code",
        "colab": {}
      },
      "source": [
        "make_sentence('Learning', 'is', 'fun')"
      ],
      "execution_count": 0,
      "outputs": []
    },
    {
      "cell_type": "markdown",
      "metadata": {
        "id": "JHNi6Qea2_uS",
        "colab_type": "text"
      },
      "source": [
        "##### **Try out the following example**"
      ]
    },
    {
      "cell_type": "markdown",
      "metadata": {
        "id": "jnWmRKiZ4lhb",
        "colab_type": "text"
      },
      "source": [
        "Write a function that takes a number and returns true if it is a even number and false if it is a odd number."
      ]
    },
    {
      "cell_type": "code",
      "metadata": {
        "id": "LBBlaIj53A7G",
        "colab_type": "code",
        "colab": {}
      },
      "source": [
        "def even_odd(num):\n",
        " "
      ],
      "execution_count": 0,
      "outputs": []
    },
    {
      "cell_type": "markdown",
      "metadata": {
        "id": "4gLRlSm2xiKa",
        "colab_type": "text"
      },
      "source": [
        "## Numpy\n",
        "\n",
        "\n",
        "---\n",
        "\n",
        "\n",
        "NumPy is a package that defines a multi-dimensional array object and associated fast math functions that operate on it. It also provides simple routines for linear algebra. \n",
        "\n",
        "We would be using numpy to generate random gaussian distribution, generating random numbers, lists, etc. A very complete manual by the principal author of Numpy, Travis Oliphant, can be [found here](http://csc.ucdavis.edu/~chaos/courses/nlp/Software/NumPyBook.pdf). \n",
        "\n",
        "Further documentation is available from http://docs.scipy.org/doc/"
      ]
    },
    {
      "cell_type": "markdown",
      "metadata": {
        "id": "kgBJfVAjzGbZ",
        "colab_type": "text"
      },
      "source": [
        "### Arrays\n",
        "\n",
        "A numpy array is a grid of values, all of the same type, and is indexed by a tuple of nonnegative integers. The number of dimensions is the rank of the array; the shape of an array is a tuple of integers giving the size of the array along each dimension.\n",
        "\n",
        "We can initialize numpy arrays from nested Python lists, and access elements using square brackets"
      ]
    },
    {
      "cell_type": "code",
      "metadata": {
        "id": "MicbUH9gzFvu",
        "colab_type": "code",
        "colab": {}
      },
      "source": [
        "import numpy as np\n",
        "a = np.array([1, 2, 3])   # Create a rank 1 array"
      ],
      "execution_count": 0,
      "outputs": []
    },
    {
      "cell_type": "code",
      "metadata": {
        "id": "Ae7p6X3hPwND",
        "colab_type": "code",
        "colab": {}
      },
      "source": [
        "print('Data type of a is {}'.format(type(a)))            # Prints \"<class 'numpy.ndarray'>\""
      ],
      "execution_count": 0,
      "outputs": []
    },
    {
      "cell_type": "code",
      "metadata": {
        "id": "GUbNVKqDPy7t",
        "colab_type": "code",
        "colab": {}
      },
      "source": [
        "print('Shape of a is {}'.format(a.shape))            # Prints \"(3,)\""
      ],
      "execution_count": 0,
      "outputs": []
    },
    {
      "cell_type": "code",
      "metadata": {
        "id": "KcevG7eLP3JT",
        "colab_type": "code",
        "colab": {}
      },
      "source": [
        "print('The elements of the array are: {}, {}, {}'.format(a[0], a[1], a[2]))   # Prints \"1 2 3\""
      ],
      "execution_count": 0,
      "outputs": []
    },
    {
      "cell_type": "code",
      "metadata": {
        "id": "1HyIUe7EP5MW",
        "colab_type": "code",
        "colab": {}
      },
      "source": [
        "a[0] = 5                  # Change an element of the array\n",
        "print('The new the array is {}'.format(a))                  # Prints \"[5, 2, 3]\""
      ],
      "execution_count": 0,
      "outputs": []
    },
    {
      "cell_type": "code",
      "metadata": {
        "id": "-i7hij0pP-qN",
        "colab_type": "code",
        "colab": {}
      },
      "source": [
        "b = np.array([[1,2,3],[4,5,6]])    # Create a rank 2 array\n",
        "print('The shape of the array is {}'.format(b.shape))                     # Prints \"(2, 3)\"\n",
        "print('b[0, 0] = {}, b[0, 1]={}, b[1, 0]={}'.format(b[0, 0], b[0, 1], b[1, 0]))   # Prints \"1 2 4\""
      ],
      "execution_count": 0,
      "outputs": []
    },
    {
      "cell_type": "markdown",
      "metadata": {
        "id": "8tmo2g7_0UAl",
        "colab_type": "text"
      },
      "source": [
        "Numpy also provides many functions to create arrays:"
      ]
    },
    {
      "cell_type": "code",
      "metadata": {
        "id": "68AMFsch0S0u",
        "colab_type": "code",
        "colab": {}
      },
      "source": [
        "# the method zeros return a new array of given shape and type, filled with zeros.\n",
        "a = np.zeros((2,2))   # Create an array of all zeros\n",
        "print(a)              # Prints \"[[ 0.  0.]\n",
        "                      #          [ 0.  0.]]\"\n"
      ],
      "execution_count": 0,
      "outputs": []
    },
    {
      "cell_type": "code",
      "metadata": {
        "id": "RRZLhF1yQFV5",
        "colab_type": "code",
        "colab": {}
      },
      "source": [
        "# the method ones return a new array of given shape and type, filled with zeros.\n",
        "b = np.ones((1,2))    # Create an array of all ones\n",
        "print(b)              # Prints \"[[ 1.  1.]]\""
      ],
      "execution_count": 0,
      "outputs": []
    },
    {
      "cell_type": "markdown",
      "metadata": {
        "id": "aRY22-9d02t1",
        "colab_type": "text"
      },
      "source": [
        "### Creating random numbers/list"
      ]
    },
    {
      "cell_type": "markdown",
      "metadata": {
        "id": "W_HhOgaB1rqz",
        "colab_type": "text"
      },
      "source": [
        "Using numpy to generate an array with 10 random numbers from a normal distribution"
      ]
    },
    {
      "cell_type": "code",
      "metadata": {
        "id": "WIlGfK2Fy3fo",
        "colab_type": "code",
        "colab": {}
      },
      "source": [
        "import numpy as np\n",
        "\n",
        "# for the below menitoned function,\n",
        "# loc = Mean (“centre”) of the distribution.\n",
        "# scale = Standard deviation (spread or “width”) of the distribution.\n",
        "# size = Output size\n",
        "# Thus the below function provides us with 10 numbers with a std deviation of 1 and mean of 0\n",
        "rand_num = np.random.normal(loc = 0, scale = 1, size =10)\n",
        "print(\"10 random numbers from a standard normal distribution:\")\n",
        "print(rand_num)"
      ],
      "execution_count": 0,
      "outputs": []
    },
    {
      "cell_type": "markdown",
      "metadata": {
        "id": "0pun-sR226nC",
        "colab_type": "text"
      },
      "source": [
        "## Matplotlib\n",
        "\n",
        "---\n",
        "Matplotlib is a multi-platform data visualization library built on NumPy arrays. Matplotlib consists of several plots like line, bar, scatter, histogram etc."
      ]
    },
    {
      "cell_type": "markdown",
      "metadata": {
        "id": "X4Kztw193h88",
        "colab_type": "text"
      },
      "source": [
        "Matplotlib comes with a wide variety of plots. Plots helps to understand trends, patterns, and to make correlations. They’re typically instruments for reasoning about quantitative information. Some of the sample plots are covered here.\n",
        "\n",
        "More plots and example can be found at https://matplotlib.org/tutorials/index.html"
      ]
    },
    {
      "cell_type": "markdown",
      "metadata": {
        "id": "twv-cXyE3-YO",
        "colab_type": "text"
      },
      "source": [
        "##### Plotting lines"
      ]
    },
    {
      "cell_type": "code",
      "metadata": {
        "id": "xUBBdu1s3i59",
        "colab_type": "code",
        "colab": {}
      },
      "source": [
        "# using the pyplot function\n",
        "# importing matplotlib module  \n",
        "from matplotlib import pyplot as plt \n",
        "  \n",
        "# x-axis values \n",
        "x = [1, 2, 3, 4, 5] \n",
        "x1 = [2,4,6,8,10]\n",
        "\n",
        "# Y-axis values \n",
        "y = [10, 9, 8, 7, 6] \n",
        "y1 = [1,2,3,4,5]\n",
        "\n",
        "# Function to plot the two set of points\n",
        "plt.plot(x,y, label='Line 1') \n",
        "plt.plot(x1, y1, label='Line 2')\n",
        "\n",
        "\n",
        "# Setting Names for axis, legends, legend location for axis\n",
        "plt.title('PLotting lines using matplotlib')\n",
        "plt.xlabel('X-Axis', fontsize=18)\n",
        "plt.ylabel('Y Axis', fontsize=16)\n",
        "plt.legend(loc=\"upper right\")\n",
        "\n",
        "# function to show the plot \n",
        "plt.show() "
      ],
      "execution_count": 0,
      "outputs": []
    },
    {
      "cell_type": "markdown",
      "metadata": {
        "id": "9RDC5-d_4BQl",
        "colab_type": "text"
      },
      "source": [
        "##### Plotting bar graphs"
      ]
    },
    {
      "cell_type": "code",
      "metadata": {
        "id": "tLXGwI3E4EyX",
        "colab_type": "code",
        "colab": {}
      },
      "source": [
        "# importing matplotlib module  \n",
        "from matplotlib import pyplot as plt \n",
        "  \n",
        "# x-axis values \n",
        "x = [5, 2, 9, 4, 7] \n",
        "  \n",
        "# Y-axis values \n",
        "y = [10, 5, 8, 4, 2] \n",
        "  \n",
        "# Function to plot the bar \n",
        "plt.bar(x,y) \n",
        "  \n",
        "# function to show the plot \n",
        "plt.show() "
      ],
      "execution_count": 0,
      "outputs": []
    },
    {
      "cell_type": "markdown",
      "metadata": {
        "id": "eC383MBj4Lct",
        "colab_type": "text"
      },
      "source": [
        "##### Plotting scatter plots"
      ]
    },
    {
      "cell_type": "code",
      "metadata": {
        "id": "hb3M80A14Ntv",
        "colab_type": "code",
        "colab": {}
      },
      "source": [
        "# importing matplotlib module  \n",
        "from matplotlib import pyplot as plt \n",
        "  \n",
        "# x-axis values \n",
        "x = [5, 2, 9, 4, 7] \n",
        "  \n",
        "# Y-axis values \n",
        "y = [10, 5, 8, 4, 2] \n",
        "  \n",
        "# Function to plot scatter \n",
        "plt.scatter(x, y) \n",
        "  \n",
        "# function to show the plot \n",
        "plt.show() "
      ],
      "execution_count": 0,
      "outputs": []
    }
  ]
}